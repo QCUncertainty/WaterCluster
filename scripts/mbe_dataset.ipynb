{
 "cells": [
  {
   "cell_type": "markdown",
   "id": "78b74436",
   "metadata": {},
   "source": [
    "Python script to create a many-body expansion calculation dataset with qcmanybody\n",
    "Usage: modify the setting lines below and run `python mbe_dataset.py`"
   ]
  },
  {
   "cell_type": "code",
   "execution_count": null,
   "id": "fae54a98",
   "metadata": {},
   "outputs": [],
   "source": [
    "import qcportal as ptl\n",
    "from qcportal.molecules import Molecule\n",
    "from qcportal.record_models import RecordStatusEnum\n",
    "import numpy as np\n",
    "from qcportal.manybody import ManybodySpecification\n",
    "import glob"
   ]
  },
  {
   "cell_type": "markdown",
   "id": "dcf42fb9",
   "metadata": {},
   "source": [
    "Settings"
   ]
  },
  {
   "cell_type": "code",
   "execution_count": null,
   "id": "453b1e75",
   "metadata": {},
   "outputs": [],
   "source": [
    "client = ptl.PortalClient(\"http://127.0.0.1:7777\")"
   ]
  },
  {
   "cell_type": "code",
   "execution_count": null,
   "id": "b9944d7e",
   "metadata": {},
   "outputs": [],
   "source": [
    "GEOM_FILE = 'test-5.xyz' # A stacked xyz file containing multiple geoms of water clusters"
   ]
  },
  {
   "cell_type": "code",
   "execution_count": null,
   "id": "76cf0368",
   "metadata": {},
   "outputs": [],
   "source": [
    "N = 3"
   ]
  },
  {
   "cell_type": "code",
   "execution_count": null,
   "id": "17a67a52",
   "metadata": {},
   "outputs": [],
   "source": [
    "DELETE_SCRATCH = True # if false keeping the scratch files for debugging purpose"
   ]
  },
  {
   "cell_type": "code",
   "execution_count": null,
   "id": "d04b1a62",
   "metadata": {},
   "outputs": [],
   "source": [
    "DATASET_NAME = 'W3_MBE_test'"
   ]
  },
  {
   "cell_type": "code",
   "execution_count": null,
   "id": "f009362d",
   "metadata": {},
   "outputs": [],
   "source": [
    "DATASET_DESCRIPTION = 'MBE calculations of water trimers, test dataset run'"
   ]
  },
  {
   "cell_type": "code",
   "execution_count": null,
   "id": "d2c7871d",
   "metadata": {},
   "outputs": [],
   "source": [
    "# specification\n",
    "sp_spec = {\n",
    "    \"program\": \"psi4\",\n",
    "    \"driver\": \"energy\",\n",
    "    \"method\": \"b3lyp\",\n",
    "    \"basis\": \"6-31G*\",\n",
    "    \"keywords\": {\"e_convergence\": 1e-10, \"d_convergence\": 1e-10},\n",
    "}"
   ]
  },
  {
   "cell_type": "code",
   "execution_count": null,
   "id": "dbcda6f0",
   "metadata": {},
   "outputs": [],
   "source": [
    "mb_spec = ManybodySpecification(\n",
    "    bsse_correction=['vmfc'],\n",
    "    levels={1: sp_spec, 2: sp_spec, 3: sp_spec},\n",
    ")"
   ]
  },
  {
   "cell_type": "code",
   "execution_count": null,
   "id": "e87afa0c",
   "metadata": {},
   "outputs": [],
   "source": [
    "SPEC_NAME = 'b3lyp/6-31G*/vmfc'"
   ]
  },
  {
   "cell_type": "code",
   "execution_count": null,
   "id": "4bd3daca",
   "metadata": {},
   "outputs": [],
   "source": [
    "ENTRY_PRE = 'trimer_'"
   ]
  },
  {
   "cell_type": "markdown",
   "id": "41f85269",
   "metadata": {},
   "source": [
    "End Settings"
   ]
  },
  {
   "cell_type": "code",
   "execution_count": null,
   "id": "cf544397",
   "metadata": {},
   "outputs": [],
   "source": [
    "i = -1"
   ]
  },
  {
   "cell_type": "code",
   "execution_count": null,
   "id": "eef6b1bb",
   "metadata": {},
   "outputs": [],
   "source": [
    "row_length = 12*N # no. of elements for a geom row of a structure"
   ]
  },
  {
   "cell_type": "code",
   "execution_count": null,
   "id": "8e9dd108",
   "metadata": {},
   "outputs": [],
   "source": [
    "geom_blank = [\" \"]*row_length\n",
    "geom = [geom_blank]"
   ]
  },
  {
   "cell_type": "code",
   "execution_count": null,
   "id": "4d0e6656",
   "metadata": {},
   "outputs": [],
   "source": [
    "j = 0"
   ]
  },
  {
   "cell_type": "code",
   "execution_count": null,
   "id": "dfff8431",
   "metadata": {},
   "outputs": [],
   "source": [
    "with open(GEOM_FILE,'r') as Inp:\n",
    "    for line in Inp:\n",
    "        line_sp = line.split()\n",
    "        if len(line_sp) == 1:\n",
    "            i += 1\n",
    "            j = 0\n",
    "            if i != 0:\n",
    "                geom = np.vstack([geom,geom_blank])\n",
    "        elif len(line_sp) == 4:\n",
    "            if i == 0:\n",
    "                geom[j:j+4] = line_sp\n",
    "            else:\n",
    "                geom[i,j:j+4] = line_sp\n",
    "            j += 4"
   ]
  },
  {
   "cell_type": "code",
   "execution_count": null,
   "id": "5909aef2",
   "metadata": {},
   "outputs": [],
   "source": [
    "ds_w3_mbe = client.add_dataset(\"manybody\",\n",
    "                        name=DATASET_NAME,\n",
    "                        description=DATASET_DESCRIPTION)"
   ]
  },
  {
   "cell_type": "code",
   "execution_count": null,
   "id": "ea44361d",
   "metadata": {},
   "outputs": [],
   "source": [
    "# add water trimers as entries\n",
    "for ii in range(len(geom)):\n",
    "    with open('tmp-geom'+str(ii)+'.in', 'w+') as GeomInp:\n",
    "        for j in range(0,row_length,4):\n",
    "            GeomInp.write(\"{} {} {} {}\\n\".format(geom[ii,j],float(geom[ii,j+1]),float(geom[ii,j+2]),float(geom[ii,j+3])))\n",
    "            if ((j+4)%12 == 0 and ((j+4) < row_length)):\n",
    "                GeomInp.write(\"--\\n\")\n",
    "        GeomInp.seek(0)\n",
    "        mol_geom = GeomInp.read()\n",
    "        mol = Molecule.from_data(mol_geom)\n",
    "    entry_name = ENTRY_PRE+str(ii)\n",
    "    ds_w3_mbe.add_entry(name=entry_name, initial_molecule=mol)"
   ]
  },
  {
   "cell_type": "code",
   "execution_count": null,
   "id": "0589d05f",
   "metadata": {},
   "outputs": [],
   "source": [
    "# Actually attach the specification and entry to the dataset\n",
    "ds_w3_mbe.add_specification(name=SPEC_NAME, specification=mb_spec)"
   ]
  },
  {
   "cell_type": "code",
   "execution_count": null,
   "id": "3438fa0f",
   "metadata": {},
   "outputs": [],
   "source": [
    "# Then from there, you can submit, etc\n",
    "ds_w3_mbe.submit()"
   ]
  },
  {
   "cell_type": "code",
   "execution_count": null,
   "id": "41997278",
   "metadata": {},
   "outputs": [],
   "source": [
    "# clean scratch\n",
    "if DELETE_SCRATCH:\n",
    "    for f in glob.glob(\"tmp-geom*.in\"):\n",
    "        os.remove(f)"
   ]
  },
  {
   "cell_type": "markdown",
   "id": "c90385a6",
   "metadata": {},
   "source": [
    "ds_w3_mbe.print_status()"
   ]
  },
  {
   "cell_type": "markdown",
   "id": "f248726a",
   "metadata": {},
   "source": [
    "get a record and show the output\n",
    "rec = ds_w3_mbe.get_record('trimer_1', 'b3lyp/6-31G*/vmfc')\n",
    "print(rec.stdout)"
   ]
  },
  {
   "cell_type": "markdown",
   "id": "627add81",
   "metadata": {},
   "source": [
    "calculate the MBE errors\n",
    "FULL_BODY = 3\n",
    "MAX_NBODY = 3\n",
    "\n",
    "full_body_key = 'VMFC-CORRECTED TOTAL ENERGY THROUGH '+str(FULL_BODY)+'-BODY'\n",
    "full_body_E = rec.results['results'][full_body_key]\n",
    "\n",
    "MBE_err = [] # list of MBE errors\n",
    "\n",
    "for i in range(MAX_NBODY - 1):\n",
    "   key = 'VMFC-CORRECTED TOTAL ENERGY THROUGH '+str(i+1)+'-BODY'\n",
    "   MBE_err.append(rec.results['results'][key] - full_body_E)\n",
    "\n",
    "print(MBE_err)"
   ]
  }
 ],
 "metadata": {
  "jupytext": {
   "cell_metadata_filter": "-all",
   "main_language": "python",
   "notebook_metadata_filter": "-all"
  }
 },
 "nbformat": 4,
 "nbformat_minor": 5
}
