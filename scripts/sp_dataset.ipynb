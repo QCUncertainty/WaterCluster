{
 "cells": [
  {
   "cell_type": "markdown",
   "id": "fc122763",
   "metadata": {},
   "source": [
    "Python script to create a singlepoint energy calculation dataset\n",
    "Usage: modify the setting lines below and run `python sp_dataset.py`"
   ]
  },
  {
   "cell_type": "code",
   "execution_count": null,
   "id": "40d37f4e",
   "metadata": {},
   "outputs": [],
   "source": [
    "import qcportal as ptl\n",
    "from qcportal.molecules import Molecule\n",
    "from qcportal.record_models import RecordStatusEnum\n",
    "import numpy as np\n",
    "import glob"
   ]
  },
  {
   "cell_type": "markdown",
   "id": "4dbbaec8",
   "metadata": {},
   "source": [
    "Settings"
   ]
  },
  {
   "cell_type": "code",
   "execution_count": null,
   "id": "c1f0c860",
   "metadata": {},
   "outputs": [],
   "source": [
    "client = ptl.PortalClient(\"http://127.0.0.1:7777\") # database server and port"
   ]
  },
  {
   "cell_type": "code",
   "execution_count": null,
   "id": "4819fc8f",
   "metadata": {},
   "outputs": [],
   "source": [
    "GEOM_FILE = 'test-5.xyz' # A stacked xyz file containing multiple water cluster geoms"
   ]
  },
  {
   "cell_type": "code",
   "execution_count": null,
   "id": "a6440537",
   "metadata": {},
   "outputs": [],
   "source": [
    "N = 3 # no. of water molecules in one cluster"
   ]
  },
  {
   "cell_type": "code",
   "execution_count": null,
   "id": "f7f8d87b",
   "metadata": {},
   "outputs": [],
   "source": [
    "DELETE_SCRATCH = True # if false keeping the scratch files for debugging purpose"
   ]
  },
  {
   "cell_type": "code",
   "execution_count": null,
   "id": "824db506",
   "metadata": {},
   "outputs": [],
   "source": [
    "DATASET_NAME = 'W3_singlepoint_test'"
   ]
  },
  {
   "cell_type": "code",
   "execution_count": null,
   "id": "cf50d4bb",
   "metadata": {},
   "outputs": [],
   "source": [
    "DATASET_DESCRIPTION = 'Single point test calculations of water trimers'"
   ]
  },
  {
   "cell_type": "code",
   "execution_count": null,
   "id": "40a94d02",
   "metadata": {},
   "outputs": [],
   "source": [
    "# specification\n",
    "sp_spec = {\n",
    "    \"program\": \"psi4\",\n",
    "    \"driver\": \"energy\",\n",
    "    \"method\": \"b3lyp\",\n",
    "    \"basis\": \"6-31G*\",\n",
    "    \"keywords\": {\"e_convergence\": 1e-10, \"d_convergence\": 1e-10},\n",
    "}"
   ]
  },
  {
   "cell_type": "code",
   "execution_count": null,
   "id": "5968e08e",
   "metadata": {},
   "outputs": [],
   "source": [
    "SPEC_NAME = 'b3lyp/6-31G*'"
   ]
  },
  {
   "cell_type": "code",
   "execution_count": null,
   "id": "3c61a421",
   "metadata": {},
   "outputs": [],
   "source": [
    "ENTRY_PRE = 'trimer_'"
   ]
  },
  {
   "cell_type": "markdown",
   "id": "7a8fe8f1",
   "metadata": {},
   "source": [
    "End Settings"
   ]
  },
  {
   "cell_type": "code",
   "execution_count": null,
   "id": "2e70ca90",
   "metadata": {},
   "outputs": [],
   "source": [
    "i = -1"
   ]
  },
  {
   "cell_type": "code",
   "execution_count": null,
   "id": "d1275ab4",
   "metadata": {},
   "outputs": [],
   "source": [
    "row_length = 12*N # no. of elements for a geom row of a structure"
   ]
  },
  {
   "cell_type": "code",
   "execution_count": null,
   "id": "05cc5e34",
   "metadata": {},
   "outputs": [],
   "source": [
    "geom_blank = [\" \"]*row_length\n",
    "geom = [geom_blank]"
   ]
  },
  {
   "cell_type": "code",
   "execution_count": null,
   "id": "b8a42742",
   "metadata": {},
   "outputs": [],
   "source": [
    "j = 0"
   ]
  },
  {
   "cell_type": "code",
   "execution_count": null,
   "id": "1004dd55",
   "metadata": {},
   "outputs": [],
   "source": [
    "with open(GEOM_FILE,'r') as Inp:\n",
    "    for line in Inp:\n",
    "        line_sp = line.split()\n",
    "        if len(line_sp) == 1:\n",
    "            i += 1\n",
    "            j = 0\n",
    "            if i != 0:\n",
    "                geom = np.vstack([geom,geom_blank])\n",
    "        elif len(line_sp) == 4:\n",
    "            if i == 0:\n",
    "                geom[j:j+4] = line_sp\n",
    "            else:\n",
    "                geom[i,j:j+4] = line_sp\n",
    "            j += 4"
   ]
  },
  {
   "cell_type": "code",
   "execution_count": null,
   "id": "e5982cf4",
   "metadata": {},
   "outputs": [],
   "source": [
    "ds = client.add_dataset(\"singlepoint\",\n",
    "                        name=DATASET_NAME,\n",
    "                        description=DATASET_DESCRIPTION)"
   ]
  },
  {
   "cell_type": "code",
   "execution_count": null,
   "id": "4cdb94b2",
   "metadata": {},
   "outputs": [],
   "source": [
    "for ii in range(len(geom)):\n",
    "    with open('tmp-geom'+str(ii)+'.in', 'w+') as GeomInp:\n",
    "        for j in range(0,row_length,4):\n",
    "            GeomInp.write(\"{} {} {} {}\\n\".format(geom[ii,j],float(geom[ii,j+1]),float(geom[ii,j+2]),float(geom[ii,j+3])))\n",
    "            if ((j+4)%12 == 0 and ((j+4) < row_length)):\n",
    "                GeomInp.write(\"--\\n\")\n",
    "        GeomInp.seek(0)\n",
    "        mol_geom = GeomInp.read()\n",
    "        mol = Molecule.from_data(mol_geom)\n",
    "    entry_name = ENTRY_PRE+str(ii)\n",
    "    ds.add_entry(name=entry_name, molecule=mol)"
   ]
  },
  {
   "cell_type": "code",
   "execution_count": null,
   "id": "01eb9963",
   "metadata": {},
   "outputs": [],
   "source": [
    "ds.add_specification(name=SPEC_NAME, specification=sp_spec)"
   ]
  },
  {
   "cell_type": "code",
   "execution_count": null,
   "id": "5be615ea",
   "metadata": {},
   "outputs": [],
   "source": [
    "ds.submit()"
   ]
  },
  {
   "cell_type": "code",
   "execution_count": null,
   "id": "e6cf9cbf",
   "metadata": {},
   "outputs": [],
   "source": [
    "# clean scratch\n",
    "if DELETE_SCRATCH:\n",
    "    for f in glob.glob(\"tmp-geom*.in\"):\n",
    "        os.remove(f)"
   ]
  },
  {
   "cell_type": "markdown",
   "id": "fea6379b",
   "metadata": {},
   "source": [
    "ds.print_status() # check the status of the submitted dataset"
   ]
  },
  {
   "cell_type": "markdown",
   "id": "0c3c6049",
   "metadata": {},
   "source": [
    "# get one record and print the single point energy\n",
    "rec = ds.get_record('trimer_0', 'b3lyp/6-31G*')\n",
    "print(rec.properties['return_energy'])"
   ]
  }
 ],
 "metadata": {
  "jupytext": {
   "cell_metadata_filter": "-all",
   "main_language": "python",
   "notebook_metadata_filter": "-all"
  }
 },
 "nbformat": 4,
 "nbformat_minor": 5
}
